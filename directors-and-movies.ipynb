{
 "cells": [
  {
   "cell_type": "code",
   "execution_count": 57,
   "metadata": {},
   "outputs": [],
   "source": [
    "from urllib.request import urlretrieve\n",
    "from collections import Counter, defaultdict, namedtuple\n",
    "\n",
    "import csv\n",
    "\n",
    "movie_url = 'https://raw.githubusercontent.com/pybites/challenges/solutions/13/movie_metadata.csv'\n",
    "movies = 'movies.csv'\n",
    "urlretrieve(movie_url, movies)\n",
    "\n",
    "def get_movies_and_directors(movie_csv):\n",
    "    \n",
    "    directors = defaultdict(list)\n",
    "    Movies = namedtuple('Movies', 'title actors genres year imdb_score plot_keywords')\n",
    "\n",
    "    with open(movie_csv) as f:\n",
    "        for line in csv.DictReader(f):\n",
    "            director = line['director_name']\n",
    "            title = line['movie_title'].replace('\\xa0', '')\n",
    "\n",
    "            actors = [line['actor_1_name'], line['actor_2_name'], line['actor_3_name']]\n",
    "            year = line['title_year']\n",
    "            genres = line['genres']\n",
    "\n",
    "            imdb_score = line['imdb_score']\n",
    "            plot_keywords = line['plot_keywords']\n",
    "            movie = Movies(title=title, actors=actors, genres=genres, year=year, imdb_score=imdb_score, plot_keywords=plot_keywords)\n",
    "\n",
    "            directors[director].append(movie)\n",
    "    return directors"
   ]
  },
  {
   "cell_type": "code",
   "execution_count": 58,
   "metadata": {},
   "outputs": [
    {
     "data": {
      "text/plain": [
       "[Movies(title='Hugo', actors=['Chloë Grace Moretz', 'Christopher Lee', 'Ray Winstone'], genres='Adventure|Drama|Family|Mystery', year='2011', imdb_score='7.5', plot_keywords='automaton|mechanical|railway station|steampunk|train'),\n",
       " Movies(title='The Aviator', actors=['Leonardo DiCaprio', 'Adam Scott', 'Frances Conroy'], genres='Biography|Drama', year='2004', imdb_score='7.5', plot_keywords='1920s|aviation|fight|spruce goose|test flight'),\n",
       " Movies(title='The Wolf of Wall Street', actors=['Leonardo DiCaprio', 'Matthew McConaughey', 'Jon Favreau'], genres='Biography|Comedy|Crime|Drama', year='2013', imdb_score='8.2', plot_keywords='based on true story|fellatio|female rear nudity|sex in an airplane|stockbroker'),\n",
       " Movies(title='Gangs of New York', actors=['Leonardo DiCaprio', 'Liam Neeson', 'Jim Broadbent'], genres='Crime|Drama', year='2002', imdb_score='7.5', plot_keywords='butcher|civil war|gangster|new york city|revenge'),\n",
       " Movies(title='The Departed', actors=['Leonardo DiCaprio', 'Matt Damon', 'Ray Winstone'], genres='Crime|Drama|Thriller', year='2006', imdb_score='8.5', plot_keywords='boston|mole|police|undercover|undercover cop'),\n",
       " Movies(title='Shutter Island', actors=['Leonardo DiCaprio', 'Joseph Sikora', 'Nellie Sciutto'], genres='Mystery|Thriller', year='2010', imdb_score='8.1', plot_keywords='female prisoner|plot twist|self delusion|surprise ending|year 1954'),\n",
       " Movies(title='Casino', actors=['Robert De Niro', 'Don Rickles', 'Kevin Pollak'], genres='Biography|Crime|Drama', year='1995', imdb_score='8.2', plot_keywords='car bomb|card cheat|cash|casino|gambling syndicate'),\n",
       " Movies(title='Mean Streets', actors=['Robert De Niro', 'David Carradine', 'David Proval'], genres='Crime|Drama|Romance|Thriller', year='1973', imdb_score='7.4', plot_keywords='bar|catholic guilt|epilepsy|italian american|money'),\n",
       " Movies(title='Cape Fear', actors=['Robert De Niro', 'Robert Mitchum', 'Joe Don Baker'], genres='Crime|Thriller', year='1991', imdb_score='7.3', plot_keywords='lawyer|neo noir|prison|rapist|southern gothic'),\n",
       " Movies(title='The Age of Innocence', actors=['Richard E. Grant', 'Geraldine Chaplin', 'Stuart Wilson'], genres='Drama|Romance', year='1993', imdb_score='7.2', plot_keywords='19th century|countess|lawyer|love|new york'),\n",
       " Movies(title='Bringing Out the Dead', actors=['Nicolas Cage', 'Marc Anthony', 'Sonja Sohn'], genres='Drama|Thriller', year='1999', imdb_score='6.8', plot_keywords='ambulance|ghost|hell|paramedic|rescue'),\n",
       " Movies(title='Kundun', actors=['Tenzin Thuthob Tsarong', 'Tulku Jamyang Kunga Tenzin', 'Tencho Gyalpo'], genres='Biography|Drama|History|War', year='1997', imdb_score='7.0', plot_keywords='chinese|dalai lama|lama|tibet|tibetan'),\n",
       " Movies(title='Goodfellas', actors=['Robert De Niro', 'Mike Starr', 'Paul Sorvino'], genres='Biography|Crime|Drama', year='1990', imdb_score='8.7', plot_keywords='betrayal|gangster|mafia|organized crime|robbery'),\n",
       " Movies(title='Raging Bull', actors=['Robert De Niro', 'Cathy Moriarty', 'Frank Vincent'], genres='Biography|Drama|Sport', year='1980', imdb_score='8.3', plot_keywords='boxing|domestic violence|hot temper|jealousy|rage'),\n",
       " Movies(title='New York, New York', actors=['Robert De Niro', 'Liza Minnelli', 'Mary Kay Place'], genres='Drama|Music|Musical|Romance', year='1977', imdb_score='6.7', plot_keywords='love|musician|saxophonist|singer|songwriter'),\n",
       " Movies(title='The Color of Money', actors=['Tom Cruise', 'Bill Cobbs', 'Mary Elizabeth Mastrantonio'], genres='Drama|Sport', year='1986', imdb_score='7.0', plot_keywords='hustler|losing|pool|pool player|tournament'),\n",
       " Movies(title='The Last Temptation of Christ', actors=['Irvin Kershner', 'Barbara Hershey', 'Roberts Blossom'], genres='Drama', year='1988', imdb_score='7.6', plot_keywords='carpenter|exorcism|faith|reference to jesus christ|temptation'),\n",
       " Movies(title='Taxi Driver', actors=['Robert De Niro', 'Albert Brooks', 'Peter Boyle'], genres='Crime|Drama', year='1976', imdb_score='8.3', plot_keywords='loner|neo noir|night shift|taxi driver|vigilante'),\n",
       " Movies(title='Shine a Light', actors=['Mick Jagger', 'Keith Richards', 'Albert Maysles'], genres='Biography|Documentary|Music', year='2008', imdb_score='7.2', plot_keywords='band|concert footage|new york city|rolling stones|three word title'),\n",
       " Movies(title='The Last Waltz', actors=['Ringo Starr', 'Levon Helm', 'Bob Dylan'], genres='Documentary|Music', year='1978', imdb_score='8.2', plot_keywords='band|final concert|guitar|interview|thanksgiving')]"
      ]
     },
     "execution_count": 58,
     "metadata": {},
     "output_type": "execute_result"
    }
   ],
   "source": [
    "directors = get_movies_and_directors(movie_csv)\n",
    "directors['Martin Scorsese']\n",
    "\n"
   ]
  },
  {
   "cell_type": "code",
   "execution_count": 66,
   "metadata": {},
   "outputs": [
    {
     "name": "stdout",
     "output_type": "stream",
     "text": [
      "[('Steven Spielberg', 26), ('Woody Allen', 22), ('Martin Scorsese', 20), ('Clint Eastwood', 20), ('Ridley Scott', 17)]\n"
     ]
    }
   ],
   "source": [
    "count = Counter()\n",
    "for director, movies in directors.items():\n",
    "    if director != '':\n",
    "        count[director] += len(movies)\n",
    "\n",
    "print(count.most_common(5))"
   ]
  },
  {
   "cell_type": "code",
   "execution_count": null,
   "metadata": {},
   "outputs": [],
   "source": []
  },
  {
   "cell_type": "code",
   "execution_count": null,
   "metadata": {},
   "outputs": [],
   "source": []
  }
 ],
 "metadata": {
  "kernelspec": {
   "display_name": "Python 3",
   "language": "python",
   "name": "python3"
  },
  "language_info": {
   "codemirror_mode": {
    "name": "ipython",
    "version": 3
   },
   "file_extension": ".py",
   "mimetype": "text/x-python",
   "name": "python",
   "nbconvert_exporter": "python",
   "pygments_lexer": "ipython3",
   "version": "3.6.7"
  }
 },
 "nbformat": 4,
 "nbformat_minor": 2
}
